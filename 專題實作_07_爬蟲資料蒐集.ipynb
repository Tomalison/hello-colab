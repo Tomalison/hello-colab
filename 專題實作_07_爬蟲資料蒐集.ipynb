{
  "nbformat": 4,
  "nbformat_minor": 0,
  "metadata": {
    "colab": {
      "provenance": [],
      "authorship_tag": "ABX9TyMsJoze7EREhxrLNa13t2sn",
      "include_colab_link": true
    },
    "kernelspec": {
      "name": "python3",
      "display_name": "Python 3"
    },
    "language_info": {
      "name": "python"
    }
  },
  "cells": [
    {
      "cell_type": "markdown",
      "metadata": {
        "id": "view-in-github",
        "colab_type": "text"
      },
      "source": [
        "<a href=\"https://colab.research.google.com/github/Tomalison/hello-colab/blob/main/%E5%B0%88%E9%A1%8C%E5%AF%A6%E4%BD%9C_07_%E7%88%AC%E8%9F%B2%E8%B3%87%E6%96%99%E8%92%90%E9%9B%86.ipynb\" target=\"_parent\"><img src=\"https://colab.research.google.com/assets/colab-badge.svg\" alt=\"Open In Colab\"/></a>"
      ]
    },
    {
      "cell_type": "markdown",
      "source": [
        "import sqlite3\n",
        "import datetime\n",
        "\n",
        "import requests\n",
        "import json\n",
        "# 連線資料庫\n",
        "conn = sqlite3.connect('example.db')\n",
        "c = conn.cursor()\n",
        "\n",
        "# 建立 pharmacies 表格，如果表格不存在的話\n",
        "c.execute('''CREATE TABLE IF NOT EXISTS pharmacies\n",
        "             (city text, counts text, createdAt datetime)''')\n",
        "c.execute('''DELETE FROM pharmacies''')\n",
        "conn.commit()\n",
        "\n",
        "# 新增原始資料\n",
        "URL = 'https://raw.githubusercontent.com/kiang/pharmacies/master/json/points.json'\n",
        "response = requests.get(URL)\n",
        "d = response.text\n",
        "data = json.loads(d)\n",
        "\n",
        "# 整理資料\n",
        "med_count = {}\n",
        "for d in data['features']:\n",
        "  county = d['properties'][\"address\"][0:3]\n",
        "  med_count[county] = med_count.setdefault(county,0) + 1\n",
        "\n",
        "# 加入資料\n",
        "for city,counts in med_count.items():\n",
        "  t = datetime.datetime.now()\n",
        "#  print(f\"INSERT INTO stocks VALUES ('{k}', '{v}', '{t}')\")\n",
        "  c.execute(f\"INSERT INTO pharmacies VALUES ('{city}', {counts}, '{t}')\")\n",
        "  conn.commit()\n",
        "\n",
        "# 查詢資料\n",
        "c.execute(\"SELECT * FROM pharmacies\")\n",
        "print(c.fetchall())\n",
        "\n",
        "\n",
        "# 儲存變更\n",
        "conn.commit()\n",
        "\n",
        "# 關閉資料庫連線\n",
        "conn.close()"
      ],
      "metadata": {
        "id": "Hh-BfuxXve2u"
      }
    }
  ]
}