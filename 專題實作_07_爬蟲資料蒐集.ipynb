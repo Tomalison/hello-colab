{
  "nbformat": 4,
  "nbformat_minor": 0,
  "metadata": {
    "colab": {
      "provenance": [],
      "authorship_tag": "ABX9TyP6Fryb5w0godpsz8eDtFig",
      "include_colab_link": true
    },
    "kernelspec": {
      "name": "python3",
      "display_name": "Python 3"
    },
    "language_info": {
      "name": "python"
    }
  },
  "cells": [
    {
      "cell_type": "markdown",
      "metadata": {
        "id": "view-in-github",
        "colab_type": "text"
      },
      "source": [
        "<a href=\"https://colab.research.google.com/github/Tomalison/hello-colab/blob/main/%E5%B0%88%E9%A1%8C%E5%AF%A6%E4%BD%9C_07_%E7%88%AC%E8%9F%B2%E8%B3%87%E6%96%99%E8%92%90%E9%9B%86.ipynb\" target=\"_parent\"><img src=\"https://colab.research.google.com/assets/colab-badge.svg\" alt=\"Open In Colab\"/></a>"
      ]
    },
    {
      "cell_type": "markdown",
      "source": [
        "import requests\n",
        "import json\n",
        "\n",
        "url = 'https://raw.githubusercontent.com/kiang/pharmacies/master/json/points.json'\n",
        "response = requests.get(url)\n",
        "data = json.loads(response.text)\n",
        "\n",
        "# 計算每個地區的成人剩餘口罩數量\n",
        "adult_masks = {}\n",
        "for feature in data['features']:\n",
        "    properties = feature['properties']\n",
        "    if properties['mask_adult'] != '':\n",
        "        adult_mask = int(properties['mask_adult'])\n",
        "        if properties['county'] not in adult_masks:\n",
        "            adult_masks[properties['county']] = adult_mask\n",
        "        else:\n",
        "            adult_masks[properties['county']] += adult_mask\n",
        "\n",
        "# 將結果從大到小排列\n",
        "sorted_masks = sorted(adult_masks.items(), key=lambda x: x[1], reverse=True)\n",
        "\n",
        "# 列印每個地區的成人剩餘口罩數量\n",
        "for county, count in sorted_masks:\n",
        "    print(county, ':', count)"
      ],
      "metadata": {
        "id": "Hh-BfuxXve2u"
      }
    }
  ]
}