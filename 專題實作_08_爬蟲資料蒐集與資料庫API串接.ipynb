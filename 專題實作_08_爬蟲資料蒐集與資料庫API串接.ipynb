{
  "nbformat": 4,
  "nbformat_minor": 0,
  "metadata": {
    "colab": {
      "provenance": [],
      "authorship_tag": "ABX9TyMgA7rnedY+85qa1iB2oIpy",
      "include_colab_link": true
    },
    "kernelspec": {
      "name": "python3",
      "display_name": "Python 3"
    },
    "language_info": {
      "name": "python"
    }
  },
  "cells": [
    {
      "cell_type": "markdown",
      "metadata": {
        "id": "view-in-github",
        "colab_type": "text"
      },
      "source": [
        "<a href=\"https://colab.research.google.com/github/Tomalison/hello-colab/blob/main/%E5%B0%88%E9%A1%8C%E5%AF%A6%E4%BD%9C_08_%E7%88%AC%E8%9F%B2%E8%B3%87%E6%96%99%E8%92%90%E9%9B%86%E8%88%87%E8%B3%87%E6%96%99%E5%BA%ABAPI%E4%B8%B2%E6%8E%A5.ipynb\" target=\"_parent\"><img src=\"https://colab.research.google.com/assets/colab-badge.svg\" alt=\"Open In Colab\"/></a>"
      ]
    },
    {
      "cell_type": "code",
      "source": [
        "import requests\n",
        "import json"
      ],
      "metadata": {
        "id": "rSiXBIMAkv_M"
      },
      "execution_count": 1,
      "outputs": []
    },
    {
      "cell_type": "code",
      "source": [
        "# 利用 requests 對 API 來源傳送一個請求\n",
        "response = requests.get('https://raw.githubusercontent.com/kiang/pharmacies/master/json/points.json')\n",
        "\n",
        "# 將請求回應的內容存成一個字串格式\n",
        "response_text = response.text\n",
        "\n",
        "# 將長得像 json 格式的字串解析成字典或列表\n",
        "data = json.loads(response_text)\n",
        "\n",
        "print(data)"
      ],
      "metadata": {
        "colab": {
          "base_uri": "https://localhost:8080/"
        },
        "id": "flSbLI3VlsaH",
        "outputId": "0c3813ad-e5b6-4346-bcb9-6fdd685c73d3"
      },
      "execution_count": 2,
      "outputs": [
        {
          "output_type": "stream",
          "name": "stderr",
          "text": [
            "IOPub data rate exceeded.\n",
            "The notebook server will temporarily stop sending output\n",
            "to the client in order to avoid crashing it.\n",
            "To change this limit, set the config variable\n",
            "`--NotebookApp.iopub_data_rate_limit`.\n",
            "\n",
            "Current values:\n",
            "NotebookApp.iopub_data_rate_limit=1000000.0 (bytes/sec)\n",
            "NotebookApp.rate_limit_window=3.0 (secs)\n",
            "\n"
          ]
        }
      ]
    },
    {
      "cell_type": "code",
      "source": [
        "med_count = {}\n",
        "\n",
        "# 填入欄位名稱\n",
        "for d in data['features']:\n",
        "    county = d['properties']['county']\n",
        "    if county not in med_count:\n",
        "        med_count[county] = 0\n",
        "    med_count[county] += 1\n",
        "\n",
        "print(med_count)"
      ],
      "metadata": {
        "id": "Ox00e-mppBVG"
      },
      "execution_count": null,
      "outputs": []
    },
    {
      "cell_type": "code",
      "source": [
        "mask_count = {}\n",
        "\n",
        "# 填入欄位名稱\n",
        "for d in data['features']:\n",
        "    county = d['properties']['county']\n",
        "    adult_mask_count = d['properties']['mask_adult']\n",
        "    if county not in mask_count:\n",
        "        mask_count[county] = 0\n",
        "    mask_count[county] += adult_mask_count\n",
        "\n",
        "# 將結果從大到小排列\n",
        "mask_count = dict(sorted(mask_count.items(), key=lambda item: item[1], reverse=True))\n",
        "\n",
        "print(mask_count)"
      ],
      "metadata": {
        "id": "F6jU8buXpypU"
      },
      "execution_count": null,
      "outputs": []
    },
    {
      "cell_type": "code",
      "source": [
        "import sqlite3\n",
        "import datetime"
      ],
      "metadata": {
        "id": "Wga_QrH3qx9Z"
      },
      "execution_count": null,
      "outputs": []
    },
    {
      "cell_type": "code",
      "source": [
        "conn = sqlite3.connect('example.db')\n",
        "c = conn.cursor()\n",
        "\n",
        "# 新增且清空資料表\n",
        "c.execute('''CREATE TABLE IF NOT EXISTS pharmacies\n",
        "             (city text, counts text, createdAt datetime)''')\n",
        "c.execute('''DELETE FROM pharmacies''')\n",
        "conn.commit()\n",
        "\n",
        "# 利用 requests 對 API 來源傳送一個請求\n",
        "response = requests.get('https://raw.githubusercontent.com/kiang/pharmacies/master/json/points.json')\n",
        "\n",
        "# 將請求回應的內容存成一個字串格式\n",
        "response_text = response.text\n",
        "\n",
        "# 將長得像 json 格式的字串解析成字典或列表\n",
        "data = json.loads(response_text)['features']\n",
        "\n",
        "med_counts = {}\n",
        "# 填入欄位名稱\n",
        "for d in data:\n",
        "\n",
        "    countys = d['properties']['county']\n",
        "    if countys not in med_counts:\n",
        "        med_counts[countys] = 0\n",
        "    med_counts[countys] += 1\n",
        "\n",
        "for city, counts in med_counts.items():\n",
        "    t = datetime.datetime.now()\n",
        "    c.execute(f\"INSERT INTO pharmacies VALUES ('{city}', {counts}, '{t}')\")\n",
        "    conn.commit()\n",
        "\n",
        "# 查詢資料\n",
        "c.execute(\"SELECT * FROM pharmacies\")\n",
        "print(c.fetchall())\n",
        "\n",
        "conn.commit()\n",
        "conn.close()"
      ],
      "metadata": {
        "id": "8nPPUbj_rQQJ"
      },
      "execution_count": null,
      "outputs": []
    },
    {
      "cell_type": "code",
      "source": [
        "conn = sqlite3.connect('example.db')\n",
        "c = conn.cursor()\n",
        "\n",
        "# 新增且清空資料表\n",
        "c.execute('''CREATE TABLE IF NOT EXISTS masks\n",
        "             (city text, counts integer, createdAt datetime)''')\n",
        "c.execute('''DELETE FROM masks''')\n",
        "conn.commit()\n",
        "\n",
        "# 新增資料\n",
        "response = requests.get('https://raw.githubusercontent.com/kiang/pharmacies/master/json/points.json')\n",
        "d = response.text\n",
        "data = json.loads(d)\n",
        "\n",
        "#計算出每個地區的成人剩餘口罩數量\n",
        "mask_count = {}\n",
        "# 填入欄位名稱\n",
        "for d in data['features']:\n",
        "  county = d['properties']['county']\n",
        "  if county not in mask_count: #判斷城市是否有重複加入\n",
        "      mask_count[county] = 0\n",
        "  if county in mask_count:\n",
        "      mask_count[county] += d['properties']['mask_adult'] #計算成人口罩數量\n",
        "\n",
        "for county, count in mask_count.items():\n",
        "    t = datetime.datetime.now()\n",
        "    c.execute(f\"INSERT INTO masks VALUES ('{county}', {count}, '{t}')\")\n",
        "    conn.commit()\n",
        "\n",
        "# 查詢資料\n",
        "c.execute(\"SELECT * FROM masks\")\n",
        "print(c.fetchall())\n",
        "conn.commit()\n",
        "conn.close()"
      ],
      "metadata": {
        "id": "Trrg-mgetvnv"
      },
      "execution_count": null,
      "outputs": []
    }
  ]
}