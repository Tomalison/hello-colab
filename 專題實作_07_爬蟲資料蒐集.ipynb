{
  "nbformat": 4,
  "nbformat_minor": 0,
  "metadata": {
    "colab": {
      "provenance": [],
      "authorship_tag": "ABX9TyPA5LgYvuNY1KoI9dYPJTue",
      "include_colab_link": true
    },
    "kernelspec": {
      "name": "python3",
      "display_name": "Python 3"
    },
    "language_info": {
      "name": "python"
    }
  },
  "cells": [
    {
      "cell_type": "markdown",
      "metadata": {
        "id": "view-in-github",
        "colab_type": "text"
      },
      "source": [
        "<a href=\"https://colab.research.google.com/github/Tomalison/hello-colab/blob/main/%E5%B0%88%E9%A1%8C%E5%AF%A6%E4%BD%9C_07_%E7%88%AC%E8%9F%B2%E8%B3%87%E6%96%99%E8%92%90%E9%9B%86.ipynb\" target=\"_parent\"><img src=\"https://colab.research.google.com/assets/colab-badge.svg\" alt=\"Open In Colab\"/></a>"
      ]
    },
    {
      "cell_type": "markdown",
      "source": [
        "import requests\n",
        "import json\n",
        "\n",
        "url = 'https://raw.githubusercontent.com/kiang/pharmacies/master/json/points.json'\n",
        "response = requests.get(url)\n",
        "data = json.loads(response.text)\n",
        "\n",
        "# 計算各地區的藥局數量\n",
        "pharmacies = {}\n",
        "for feature in data['features']:\n",
        "    properties = feature['properties']\n",
        "    if properties['county'] not in pharmacies:\n",
        "        pharmacies[properties['county']] = 1\n",
        "    else:\n",
        "        pharmacies[properties['county']] += 1\n",
        "\n",
        "# 列印各地區的藥局數量\n",
        "for county, count in pharmacies.items():\n",
        "    print(county, ':', count)"
      ],
      "metadata": {
        "id": "Hh-BfuxXve2u"
      }
    }
  ]
}